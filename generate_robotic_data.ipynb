{
 "cells": [
  {
   "cell_type": "code",
   "execution_count": 54,
   "metadata": {},
   "outputs": [
    {
     "name": "stdout",
     "output_type": "stream",
     "text": [
      "✅ Robotic data saved in Parquet format: robotic_data_20250415_082249.parquet\n"
     ]
    }
   ],
   "source": [
    "import pandas as pd\n",
    "import numpy as np\n",
    "from datetime import datetime, timedelta\n",
    "import uuid\n",
    "import random\n",
    "import os\n",
    "\n",
    "# Configuration\n",
    "NUM_ROBOTS = 20          # Number of robots\n",
    "TIME_INTERVAL = 5         # Time interval in seconds\n",
    "WAREHOUSE_ID = \"WH-001\"   # Single warehouse\n",
    "TASKS = [\"PICK\", \"IN_TRANSIT\", \"RELEASE\"]\n",
    "\n",
    "# File to store the last run timestamp\n",
    "LAST_RUN_FILE = \"last_run.txt\"\n",
    "\n",
    "# Load last timestamp or start fresh\n",
    "if os.path.exists(LAST_RUN_FILE):\n",
    "    with open(LAST_RUN_FILE, \"r\") as f:\n",
    "        last_timestamp = datetime.strptime(f.read().strip(), '%Y-%m-%d %H:%M:%S')\n",
    "else:\n",
    "    last_timestamp = datetime.now() - timedelta(hours=4)\n",
    "\n",
    "# Initialize robots\n",
    "robots = {}\n",
    "for i in range(NUM_ROBOTS):\n",
    "    robots[f\"robot_{i+1}\"] = {\n",
    "        \"robot_id\": f\"RBT-{i+1}\",\n",
    "        \"status\": \"active\",\n",
    "        \"battery_level\": random.randint(60, 100),\n",
    "        \"temperature\": random.uniform(30.0, 35.0),\n",
    "        \"task_id\": None,\n",
    "        \"task_type\": None,\n",
    "        \"error_code\": None\n",
    "    }\n",
    "\n",
    "# Generate continuous time series data\n",
    "data = []\n",
    "current_time = last_timestamp\n",
    "\n",
    "# Simulate 4 hours of data with 5 sec intervals\n",
    "end_time = current_time + timedelta(hours=4)\n",
    "\n",
    "while current_time <= end_time:\n",
    "    for robot_id, state in robots.items():\n",
    "        # Simulate robot behavior\n",
    "        if state[\"status\"] == \"charging\":\n",
    "            state[\"battery_level\"] = min(state[\"battery_level\"] + random.randint(10, 20), 100)\n",
    "            state[\"temperature\"] = random.uniform(40.0, 50.0)  # Higher during charging\n",
    "        else:\n",
    "            state[\"battery_level\"] = max(state[\"battery_level\"] - random.randint(1, 5), 5)\n",
    "            state[\"temperature\"] = random.uniform(30.0, 35.0)\n",
    "\n",
    "        if state[\"battery_level\"] < 15:\n",
    "            state[\"status\"] = \"charging\"\n",
    "            state[\"task_id\"] = None\n",
    "        else:\n",
    "            state[\"status\"] = np.random.choice([\"active\", \"idle\"], p=[0.8, 0.2])\n",
    "            state[\"task_id\"] = f\"T{random.randint(1000, 9999)}\" if state[\"status\"] == \"active\" else None\n",
    "            state[\"task_type\"] = np.random.choice(TASKS) if state[\"status\"] == \"active\" else None\n",
    "            state[\"error_code\"] = random.choice([None, \"E101\", \"E102\", \"E103\"]) if state[\"status\"] == \"idle\" else None\n",
    "\n",
    "        data.append({\n",
    "            \"event_id\": str(uuid.uuid4()),\n",
    "            \"timestamp\": current_time.strftime('%Y-%m-%d %H:%M:%S'),\n",
    "            \"robot_id\": state[\"robot_id\"],\n",
    "            \"warehouse_id\": WAREHOUSE_ID,\n",
    "            \"status\": state[\"status\"],\n",
    "            \"battery_level\": state[\"battery_level\"],\n",
    "            \"temperature\": round(state[\"temperature\"], 2),\n",
    "            \"task_id\": state[\"task_id\"],\n",
    "            \"task_type\": state[\"task_type\"],\n",
    "            \"error_code\": state[\"error_code\"]\n",
    "        })\n",
    "\n",
    "    current_time += timedelta(seconds=TIME_INTERVAL)\n",
    "\n",
    "# Save the current timestamp for the next run\n",
    "with open(LAST_RUN_FILE, \"w\") as f:\n",
    "    f.write(current_time.strftime('%Y-%m-%d %H:%M:%S'))\n",
    "\n",
    "# Save data to CSV\n",
    "df = pd.DataFrame(data)\n",
    "\n",
    "# print(df.dtypes)\n",
    "\n",
    "end_timestamp = end_time.strftime('%Y%m%d_%H%M%S')\n",
    "output_file = f\"robotic_data_{end_timestamp}.parquet\"\n",
    "\n",
    "# Save the data as a Parquet file with a timestamped name\n",
    "df.to_parquet(output_file, engine='pyarrow', compression='snappy')\n",
    "\n",
    "print(f\"✅ Robotic data saved in Parquet format: {output_file}\")"
   ]
  },
  {
   "cell_type": "code",
   "execution_count": 55,
   "metadata": {},
   "outputs": [
    {
     "name": "stdout",
     "output_type": "stream",
     "text": [
      "✅ Successfully uploaded robotic_data_20250415_082249.parquet to S3.\n"
     ]
    }
   ],
   "source": [
    "import boto3\n",
    "# Initialize an S3 client\n",
    "s3_client = boto3.client('s3')\n",
    "\n",
    "\n",
    "# S3 bucket name\n",
    "bucket_name = 'robotic-data'  \n",
    "# Upload file to S3\n",
    "def upload_to_s3(file_path, file_name):\n",
    "    try:\n",
    "        # Upload the file to S3\n",
    "        s3_client.upload_file(file_path, bucket_name, file_name)\n",
    "        print(f\"✅ Successfully uploaded {file_name} to S3.\")\n",
    "    except Exception as e:\n",
    "        print(f\"❌ Failed to upload {file_name} to S3. Error: {str(e)}\")\n",
    "\n",
    "# Upload the generated Parquet file to S3\n",
    "upload_to_s3(output_file, output_file)\n",
    "\n"
   ]
  }
 ],
 "metadata": {
  "kernelspec": {
   "display_name": "Python 3",
   "language": "python",
   "name": "python3"
  },
  "language_info": {
   "codemirror_mode": {
    "name": "ipython",
    "version": 3
   },
   "file_extension": ".py",
   "mimetype": "text/x-python",
   "name": "python",
   "nbconvert_exporter": "python",
   "pygments_lexer": "ipython3",
   "version": "3.9.6"
  }
 },
 "nbformat": 4,
 "nbformat_minor": 2
}
